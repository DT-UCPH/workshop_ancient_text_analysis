{
 "cells": [
  {
   "cell_type": "markdown",
   "id": "c5466d50",
   "metadata": {},
   "source": [
    "# Visualizing Data with Seaborn"
   ]
  },
  {
   "cell_type": "markdown",
   "id": "1237bf3b",
   "metadata": {},
   "source": [
    "\"A picture is worth a thousand words.\""
   ]
  },
  {
   "cell_type": "markdown",
   "id": "d82594e4",
   "metadata": {},
   "source": [
    "An important element of data analysis and data presentation consists of making data visualizations. With [Seaborn](https://seaborn.pydata.org/), you can easily make simple, clear, and beautiful graphs. The only thing you need to do, is to present the data to Seaborn in a way it accepts. In general, Seaborn needs a pandas dataframe. We will make X different types of visualizations with data we extract from ancient texts."
   ]
  },
  {
   "cell_type": "code",
   "execution_count": null,
   "id": "927ab611",
   "metadata": {},
   "outputs": [],
   "source": [
    "import matplotlib.pyplot as plt\n",
    "import numpy as np\n",
    "import pandas as pd\n",
    "import seaborn as sns"
   ]
  },
  {
   "cell_type": "code",
   "execution_count": null,
   "id": "0c8833ac",
   "metadata": {},
   "outputs": [],
   "source": [
    "from tf.app import use\n",
    "A = use('etcbc/bhsa', hoist=globals())"
   ]
  },
  {
   "cell_type": "markdown",
   "id": "9c7822b0",
   "metadata": {},
   "source": [
    "## Stripchart"
   ]
  },
  {
   "cell_type": "markdown",
   "id": "f0a792c9",
   "metadata": {},
   "source": [
    "https://seaborn.pydata.org/generated/seaborn.stripplot.html\n",
    "https://seaborn.pydata.org/tutorial/categorical.html#categorical-tutorial"
   ]
  },
  {
   "cell_type": "markdown",
   "id": "db6bdca3",
   "metadata": {},
   "source": [
    "If you want to make a vizualization using a function from some package, it is important to get an idea of the structure of the data that the function needs. For instance, in the [documentation of the stripplot](https://seaborn.pydata.org/generated/seaborn.stripplot.html), a dataset \"tips\" is loaded. Explore this dataset first!"
   ]
  },
  {
   "cell_type": "code",
   "execution_count": null,
   "id": "c0dc5bf2",
   "metadata": {},
   "outputs": [],
   "source": [
    "tips = sns.load_dataset(\"tips\")"
   ]
  },
  {
   "cell_type": "code",
   "execution_count": null,
   "id": "4178dd01",
   "metadata": {},
   "outputs": [],
   "source": [
    "type(tips)"
   ]
  },
  {
   "cell_type": "code",
   "execution_count": null,
   "id": "3d876826",
   "metadata": {},
   "outputs": [],
   "source": [
    "tips.shape"
   ]
  },
  {
   "cell_type": "code",
   "execution_count": null,
   "id": "71314a64",
   "metadata": {},
   "outputs": [],
   "source": [
    "tips.head()"
   ]
  },
  {
   "cell_type": "markdown",
   "id": "b51ca189",
   "metadata": {},
   "source": [
    "Then you see immediately, that the arguments x and y in the function sns.stripplot() are the names of two columns: \"day\" is a categorical variable, and \"total_bill\" is a numeric variable."
   ]
  },
  {
   "cell_type": "code",
   "execution_count": null,
   "id": "35843dab",
   "metadata": {},
   "outputs": [],
   "source": [
    "ax = sns.stripplot(x=\"day\", y=\"total_bill\", data=tips)"
   ]
  },
  {
   "cell_type": "markdown",
   "id": "3194434b",
   "metadata": {},
   "source": [
    "Could we also use plain lists? Sure!"
   ]
  },
  {
   "cell_type": "code",
   "execution_count": null,
   "id": "18c9c64d",
   "metadata": {},
   "outputs": [],
   "source": [
    "day = ['monday', 'monday', 'monday', 'tuesday', 'tuesday']\n",
    "bill = [10, 20, 30, 50, 55]\n",
    "\n",
    "ax = sns.stripplot(x=day, y=bill)"
   ]
  },
  {
   "cell_type": "markdown",
   "id": "56004e1c",
   "metadata": {},
   "source": [
    "Now we make such a stripplot using alternative expressions for \"kingdom\" in Biblical Hebrew."
   ]
  },
  {
   "cell_type": "code",
   "execution_count": null,
   "id": "8bae1a20",
   "metadata": {},
   "outputs": [],
   "source": [
    "query = \"\"\"\n",
    "word lex=MLKWT/|MMLKH/\n",
    "\"\"\""
   ]
  },
  {
   "cell_type": "code",
   "execution_count": null,
   "id": "4cdfc0ed",
   "metadata": {},
   "outputs": [],
   "source": [
    "results = A.search(query)\n",
    "A.table(results)"
   ]
  },
  {
   "cell_type": "code",
   "execution_count": null,
   "id": "08d2554b",
   "metadata": {},
   "outputs": [],
   "source": [
    "results"
   ]
  },
  {
   "cell_type": "code",
   "execution_count": null,
   "id": "ed634cd6",
   "metadata": {},
   "outputs": [],
   "source": [
    "result_nodes = [r[0] for r in results]"
   ]
  },
  {
   "cell_type": "markdown",
   "id": "8e8d9a8b",
   "metadata": {},
   "source": [
    "In the following cell we retrieve the lexemes in Hebrew script. Note, that with [::-1], we reverse the order of the letters. This is a trick to avoid a reversed order in the plot. Check this!"
   ]
  },
  {
   "cell_type": "code",
   "execution_count": null,
   "id": "28057cfb",
   "metadata": {},
   "outputs": [],
   "source": [
    "lexemes = [F.lex_utf8.v(w)[::-1] for w in result_nodes]"
   ]
  },
  {
   "cell_type": "code",
   "execution_count": null,
   "id": "0002dad3",
   "metadata": {},
   "outputs": [],
   "source": [
    "kingdom_dict = {'id': result_nodes, \n",
    "                'lexeme': lexemes}\n",
    "\n",
    "kingdom_df = pd.DataFrame(kingdom_dict)\n",
    "kingdom_df"
   ]
  },
  {
   "cell_type": "code",
   "execution_count": null,
   "id": "3e70b054",
   "metadata": {},
   "outputs": [],
   "source": [
    "sns.set(style=\"whitegrid\",\n",
    "         rc = {'figure.figsize':(12,8)})"
   ]
  },
  {
   "cell_type": "code",
   "execution_count": null,
   "id": "5f161c40",
   "metadata": {},
   "outputs": [],
   "source": [
    "ax = sns.stripplot(y=\"id\", \n",
    "                   x=\"lexeme\", \n",
    "                   data=kingdom_df, \n",
    "                   palette=\"Set1\", \n",
    "                   edgecolor=\"gray\", \n",
    "                   alpha=.75, \n",
    "                   size=5\n",
    "                   ).set(title='\"Kingdom\" in the Hebrew Bible')"
   ]
  },
  {
   "cell_type": "markdown",
   "id": "431bc728",
   "metadata": {},
   "source": [
    "## Boxplot"
   ]
  },
  {
   "cell_type": "markdown",
   "id": "30bbf7da",
   "metadata": {},
   "source": [
    "https://seaborn.pydata.org/generated/seaborn.boxplot.html\n"
   ]
  },
  {
   "cell_type": "code",
   "execution_count": null,
   "id": "bd6a746c",
   "metadata": {},
   "outputs": [],
   "source": [
    "ax = sns.boxplot(x=\"id\", \n",
    "                 y=\"lexeme\", \n",
    "                 data=kingdom_df\n",
    "                 ).set(title='\"Kingdom\" in the Hebrew Bible')"
   ]
  },
  {
   "cell_type": "markdown",
   "id": "4be7af86",
   "metadata": {},
   "source": [
    "## Barplot"
   ]
  },
  {
   "cell_type": "markdown",
   "id": "5eb9f1c5",
   "metadata": {},
   "source": [
    "We make a barplot with the lengths of the books of the Hebrew Bible. We measure the length of a book by counting the number of words."
   ]
  },
  {
   "cell_type": "code",
   "execution_count": null,
   "id": "8815659d",
   "metadata": {},
   "outputs": [],
   "source": [
    "book_names = []\n",
    "book_lengths = []\n",
    "\n",
    "for b in F.otype.s('book'):\n",
    "    book_names.append(F.book.v(b))\n",
    "    \n",
    "    word_count = len(L.d(b, 'word'))\n",
    "    book_lengths.append(word_count)"
   ]
  },
  {
   "cell_type": "code",
   "execution_count": null,
   "id": "e65242d6",
   "metadata": {},
   "outputs": [],
   "source": [
    "ax = sns.barplot(x=book_names, \n",
    "                 y=book_lengths, \n",
    "                 palette=\"deep\"\n",
    "                )\n",
    "\n",
    "ax.set(title = 'Length of biblical books')\n",
    "ax.tick_params(labelrotation=90)\n",
    "\n",
    "plt.savefig('book_lengths.png')"
   ]
  },
  {
   "cell_type": "markdown",
   "id": "42d18e95",
   "metadata": {},
   "source": [
    "## Heatmap with clustering"
   ]
  },
  {
   "cell_type": "markdown",
   "id": "a8614823",
   "metadata": {},
   "source": [
    "Which books have a similar use of parts of speech? We will investigate this by counting and plotting the different parts of speech in ech biblical book."
   ]
  },
  {
   "cell_type": "code",
   "execution_count": null,
   "id": "d42ed456",
   "metadata": {},
   "outputs": [],
   "source": [
    "query = \"\"\"\n",
    "book\n",
    "  word language=Hebrew\n",
    "\"\"\""
   ]
  },
  {
   "cell_type": "code",
   "execution_count": null,
   "id": "9ed6c3a1",
   "metadata": {},
   "outputs": [],
   "source": [
    "results = A.search(query)"
   ]
  },
  {
   "cell_type": "code",
   "execution_count": null,
   "id": "71291c90",
   "metadata": {},
   "outputs": [],
   "source": [
    "books = []\n",
    "pos = []\n",
    "\n",
    "for result in results:\n",
    "    bo, wo = result\n",
    "    books.append(F.book.v(bo))\n",
    "    pos.append(F.sp.v(wo))"
   ]
  },
  {
   "cell_type": "code",
   "execution_count": null,
   "id": "b2cbd44a",
   "metadata": {},
   "outputs": [],
   "source": [
    "pos_df = pd.DataFrame(zip(books, pos), columns=['book', 'pos'])"
   ]
  },
  {
   "cell_type": "code",
   "execution_count": null,
   "id": "fe4c8774",
   "metadata": {},
   "outputs": [],
   "source": [
    "pos_counts_df = pos_df.groupby('book')['pos'].value_counts().unstack().fillna(0)"
   ]
  },
  {
   "cell_type": "code",
   "execution_count": null,
   "id": "63af2195",
   "metadata": {},
   "outputs": [],
   "source": [
    "stand_df = pos_counts_df.div(pos_counts_df.sum(axis=1), axis=0)"
   ]
  },
  {
   "cell_type": "code",
   "execution_count": null,
   "id": "5ff0ba32",
   "metadata": {},
   "outputs": [],
   "source": [
    "g = sns.clustermap(stand_df, \n",
    "                   center=0, \n",
    "                   cmap=\"vlag\",\n",
    "                   dendrogram_ratio=(.1, .2),\n",
    "                   cbar_pos=(.02, .32, .03, .2),\n",
    "                   linewidths=.75, figsize=(12, 13))"
   ]
  },
  {
   "cell_type": "code",
   "execution_count": null,
   "id": "211e48cb",
   "metadata": {},
   "outputs": [],
   "source": []
  }
 ],
 "metadata": {
  "kernelspec": {
   "display_name": "Python 3 (ipykernel)",
   "language": "python",
   "name": "python3"
  },
  "language_info": {
   "codemirror_mode": {
    "name": "ipython",
    "version": 3
   },
   "file_extension": ".py",
   "mimetype": "text/x-python",
   "name": "python",
   "nbconvert_exporter": "python",
   "pygments_lexer": "ipython3",
   "version": "3.9.7"
  }
 },
 "nbformat": 4,
 "nbformat_minor": 5
}
