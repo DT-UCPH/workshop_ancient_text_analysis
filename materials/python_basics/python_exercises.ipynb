{
 "cells": [
  {
   "cell_type": "markdown",
   "id": "5e4a5f7e",
   "metadata": {},
   "source": [
    "# Python exercises"
   ]
  },
  {
   "cell_type": "markdown",
   "id": "b110894c",
   "metadata": {},
   "source": [
    "1 Use a for loop and the int_list to create a squared_int_list with the values [0, 1, 4, 9, 16]."
   ]
  },
  {
   "cell_type": "code",
   "execution_count": 2,
   "id": "0aa2bbde",
   "metadata": {},
   "outputs": [
    {
     "data": {
      "text/plain": [
       "[0, 1, 4, 9, 16]"
      ]
     },
     "execution_count": 2,
     "metadata": {},
     "output_type": "execute_result"
    }
   ],
   "source": [
    "int_list = [0, 1, 2, 3, 4]\n",
    "squared_int_list = []\n",
    "\n",
    "for unsquared in int_list:\n",
    "    squared_int_list.append(unsquared**2)\n",
    "    \n",
    "squared_int_list\n"
   ]
  },
  {
   "cell_type": "markdown",
   "id": "5d188e3b",
   "metadata": {},
   "source": [
    "2 Slice the following list. The result should contain only uneven integers: [1, 3, 5, 7, 9]"
   ]
  },
  {
   "cell_type": "code",
   "execution_count": 4,
   "id": "f0d2f263",
   "metadata": {},
   "outputs": [
    {
     "data": {
      "text/plain": [
       "[1, 3, 5, 7, 9]"
      ]
     },
     "execution_count": 4,
     "metadata": {},
     "output_type": "execute_result"
    }
   ],
   "source": [
    "int_list2 = [0, 1, 2, 3, 4, 5, 6, 7, 8, 9, 10]\n",
    "int_list2[1::2]"
   ]
  },
  {
   "cell_type": "markdown",
   "id": "060389db",
   "metadata": {},
   "source": [
    "3 Fill the uneven list with uneven integers. The result should look as follows: [1, 3, 5, 7, 9].\n",
    "    This time, you use range() and a for loop."
   ]
  },
  {
   "cell_type": "code",
   "execution_count": 12,
   "id": "a2d5631c",
   "metadata": {},
   "outputs": [
    {
     "data": {
      "text/plain": [
       "[1, 3, 5, 7, 9]"
      ]
     },
     "execution_count": 12,
     "metadata": {},
     "output_type": "execute_result"
    }
   ],
   "source": [
    "uneven_list = []\n",
    "\n",
    "for num in range(1, 10, 2):\n",
    "    uneven_list.append(num)\n",
    "\n",
    "uneven_list "
   ]
  },
  {
   "cell_type": "markdown",
   "id": "1b9731f3",
   "metadata": {},
   "source": [
    "4 You can index and slice a string in the same way as a list, e.g.:"
   ]
  },
  {
   "cell_type": "code",
   "execution_count": null,
   "id": "bef7dc50",
   "metadata": {},
   "outputs": [],
   "source": [
    "city = 'København'\n",
    "city[::3]"
   ]
  },
  {
   "cell_type": "markdown",
   "id": "ce99c84d",
   "metadata": {},
   "source": [
    "or:"
   ]
  },
  {
   "cell_type": "code",
   "execution_count": null,
   "id": "ff568319",
   "metadata": {},
   "outputs": [],
   "source": [
    "city[-1]"
   ]
  },
  {
   "cell_type": "markdown",
   "id": "38e380a2",
   "metadata": {},
   "source": [
    "Use a for loop and the city_list to produce the abbrev_city_list with the following content: ['Kø', 'Aa', 'Od']."
   ]
  },
  {
   "cell_type": "code",
   "execution_count": 1,
   "id": "2aa321ac",
   "metadata": {},
   "outputs": [
    {
     "data": {
      "text/plain": [
       "['Kø', 'Aa', 'Od']"
      ]
     },
     "execution_count": 1,
     "metadata": {},
     "output_type": "execute_result"
    }
   ],
   "source": [
    "city_list = ['København', 'Aarhus', 'Odense']\n",
    "abbrev_city_list = []\n",
    "\n",
    "for cities in city_list:\n",
    "    abbrev = cities[:2]\n",
    "    abbrev_city_list.append(abbrev)\n",
    "    \n",
    "abbrev_city_list\n"
   ]
  },
  {
   "cell_type": "code",
   "execution_count": 6,
   "id": "47e8d660",
   "metadata": {},
   "outputs": [
    {
     "data": {
      "text/plain": [
       "'Aarhus'"
      ]
     },
     "execution_count": 6,
     "metadata": {},
     "output_type": "execute_result"
    }
   ],
   "source": [
    "city_list[1]"
   ]
  },
  {
   "cell_type": "markdown",
   "id": "4b23d418",
   "metadata": {},
   "source": [
    "5 Use a for loop and the function len(), to print the length of each name in the city_list."
   ]
  },
  {
   "cell_type": "code",
   "execution_count": 2,
   "id": "e66201d8",
   "metadata": {},
   "outputs": [
    {
     "name": "stdout",
     "output_type": "stream",
     "text": [
      "9\n",
      "6\n",
      "6\n"
     ]
    }
   ],
   "source": [
    "for city in city_list:\n",
    "    print(len(city))"
   ]
  },
  {
   "cell_type": "markdown",
   "id": "cb869030",
   "metadata": {},
   "source": [
    "6 Use the same city_list and a for loop to produce the long_city_list with the following content: ['København'].\n",
    "You add a city name to the long_list_city, if the name is longer than 6 letters. You use the function len() for checking the length."
   ]
  },
  {
   "cell_type": "code",
   "execution_count": 4,
   "id": "d208fca9",
   "metadata": {},
   "outputs": [
    {
     "data": {
      "text/plain": [
       "['København']"
      ]
     },
     "execution_count": 4,
     "metadata": {},
     "output_type": "execute_result"
    }
   ],
   "source": [
    "long_city_list = []\n",
    "\n",
    "for city in city_list:\n",
    "    if len(city) > 6:\n",
    "        long_city_list.append(city)\n",
    "        \n",
    "long_city_list"
   ]
  },
  {
   "cell_type": "markdown",
   "id": "507b677a",
   "metadata": {},
   "source": [
    "7 Use the city_list and a for loop to produce a list city_lengths, which contains the length of each city name: [9, 6, 6]."
   ]
  },
  {
   "cell_type": "code",
   "execution_count": 7,
   "id": "f5a7f89e",
   "metadata": {},
   "outputs": [
    {
     "data": {
      "text/plain": [
       "[9, 6, 6]"
      ]
     },
     "execution_count": 7,
     "metadata": {},
     "output_type": "execute_result"
    }
   ],
   "source": [
    "city_lengths = []\n",
    "\n",
    "for city in city_list:\n",
    "    city_lengths.append(len(city))\n",
    "    \n",
    "city_lengths"
   ]
  },
  {
   "cell_type": "code",
   "execution_count": null,
   "id": "8675bfb6",
   "metadata": {},
   "outputs": [],
   "source": []
  }
 ],
 "metadata": {
  "kernelspec": {
   "display_name": "Python 3 (ipykernel)",
   "language": "python",
   "name": "python3"
  },
  "language_info": {
   "codemirror_mode": {
    "name": "ipython",
    "version": 3
   },
   "file_extension": ".py",
   "mimetype": "text/x-python",
   "name": "python",
   "nbconvert_exporter": "python",
   "pygments_lexer": "ipython3",
   "version": "3.9.12"
  }
 },
 "nbformat": 4,
 "nbformat_minor": 5
}
