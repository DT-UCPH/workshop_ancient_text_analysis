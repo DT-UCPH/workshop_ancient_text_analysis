{
 "cells": [
  {
   "cell_type": "markdown",
   "id": "525709a8",
   "metadata": {},
   "source": [
    "# Basic string operations"
   ]
  },
  {
   "cell_type": "code",
   "execution_count": 10,
   "id": "e8ee1c88",
   "metadata": {},
   "outputs": [],
   "source": [
    "s = 'Python'"
   ]
  },
  {
   "cell_type": "markdown",
   "id": "657026ed",
   "metadata": {},
   "source": [
    "### Basic things"
   ]
  },
  {
   "cell_type": "markdown",
   "id": "5dc219f0",
   "metadata": {},
   "source": [
    "Count number of characters"
   ]
  },
  {
   "cell_type": "code",
   "execution_count": 42,
   "id": "9e043d54",
   "metadata": {},
   "outputs": [
    {
     "data": {
      "text/plain": [
       "6"
      ]
     },
     "execution_count": 42,
     "metadata": {},
     "output_type": "execute_result"
    }
   ],
   "source": [
    "len(s)"
   ]
  },
  {
   "cell_type": "markdown",
   "id": "af982386",
   "metadata": {},
   "source": [
    "String concatenation"
   ]
  },
  {
   "cell_type": "code",
   "execution_count": 79,
   "id": "42b26100",
   "metadata": {},
   "outputs": [
    {
     "data": {
      "text/plain": [
       "'PythonPython'"
      ]
     },
     "execution_count": 79,
     "metadata": {},
     "output_type": "execute_result"
    }
   ],
   "source": [
    "s + s"
   ]
  },
  {
   "cell_type": "code",
   "execution_count": 81,
   "id": "cd8ce5d6",
   "metadata": {},
   "outputs": [
    {
     "data": {
      "text/plain": [
       "'Python '"
      ]
     },
     "execution_count": 81,
     "metadata": {},
     "output_type": "execute_result"
    }
   ],
   "source": [
    "'Python' + ' '"
   ]
  },
  {
   "cell_type": "code",
   "execution_count": 80,
   "id": "bf37281c",
   "metadata": {},
   "outputs": [
    {
     "data": {
      "text/plain": [
       "'PythonPythonPython'"
      ]
     },
     "execution_count": 80,
     "metadata": {},
     "output_type": "execute_result"
    }
   ],
   "source": [
    "s * 3"
   ]
  },
  {
   "cell_type": "markdown",
   "id": "95dbffd6",
   "metadata": {},
   "source": [
    "### Indexing"
   ]
  },
  {
   "cell_type": "markdown",
   "id": "1a57ca51",
   "metadata": {},
   "source": [
    "Python starts counting at 0"
   ]
  },
  {
   "cell_type": "code",
   "execution_count": 11,
   "id": "349d014c",
   "metadata": {},
   "outputs": [
    {
     "data": {
      "text/plain": [
       "'P'"
      ]
     },
     "execution_count": 11,
     "metadata": {},
     "output_type": "execute_result"
    }
   ],
   "source": [
    "s[0]"
   ]
  },
  {
   "cell_type": "code",
   "execution_count": 12,
   "id": "9de21f35",
   "metadata": {},
   "outputs": [
    {
     "data": {
      "text/plain": [
       "'t'"
      ]
     },
     "execution_count": 12,
     "metadata": {},
     "output_type": "execute_result"
    }
   ],
   "source": [
    "s[2]"
   ]
  },
  {
   "cell_type": "markdown",
   "id": "c86e8118",
   "metadata": {},
   "source": [
    "start and end"
   ]
  },
  {
   "cell_type": "code",
   "execution_count": 13,
   "id": "f2f0c533",
   "metadata": {},
   "outputs": [
    {
     "data": {
      "text/plain": [
       "'Py'"
      ]
     },
     "execution_count": 13,
     "metadata": {},
     "output_type": "execute_result"
    }
   ],
   "source": [
    "s[0:2]"
   ]
  },
  {
   "cell_type": "code",
   "execution_count": 18,
   "id": "dbd090a0",
   "metadata": {},
   "outputs": [
    {
     "data": {
      "text/plain": [
       "'Py'"
      ]
     },
     "execution_count": 18,
     "metadata": {},
     "output_type": "execute_result"
    }
   ],
   "source": [
    "s[:2]"
   ]
  },
  {
   "cell_type": "code",
   "execution_count": 15,
   "id": "6b5511ce",
   "metadata": {},
   "outputs": [
    {
     "data": {
      "text/plain": [
       "'tho'"
      ]
     },
     "execution_count": 15,
     "metadata": {},
     "output_type": "execute_result"
    }
   ],
   "source": [
    "s[2:5]"
   ]
  },
  {
   "cell_type": "code",
   "execution_count": 16,
   "id": "a6c710c2",
   "metadata": {},
   "outputs": [
    {
     "data": {
      "text/plain": [
       "'thon'"
      ]
     },
     "execution_count": 16,
     "metadata": {},
     "output_type": "execute_result"
    }
   ],
   "source": [
    "s[2:]"
   ]
  },
  {
   "cell_type": "markdown",
   "id": "8871225d",
   "metadata": {},
   "source": [
    "start:end:step"
   ]
  },
  {
   "cell_type": "code",
   "execution_count": 20,
   "id": "cf9407f0",
   "metadata": {},
   "outputs": [
    {
     "data": {
      "text/plain": [
       "'Pto'"
      ]
     },
     "execution_count": 20,
     "metadata": {},
     "output_type": "execute_result"
    }
   ],
   "source": [
    "s[::2]"
   ]
  },
  {
   "cell_type": "code",
   "execution_count": 21,
   "id": "f0d9485f",
   "metadata": {},
   "outputs": [
    {
     "data": {
      "text/plain": [
       "'to'"
      ]
     },
     "execution_count": 21,
     "metadata": {},
     "output_type": "execute_result"
    }
   ],
   "source": [
    "s[2::2]"
   ]
  },
  {
   "cell_type": "markdown",
   "id": "a88a9806",
   "metadata": {},
   "source": [
    "Start at the end with a negative index"
   ]
  },
  {
   "cell_type": "code",
   "execution_count": 22,
   "id": "52f31285",
   "metadata": {},
   "outputs": [
    {
     "data": {
      "text/plain": [
       "'n'"
      ]
     },
     "execution_count": 22,
     "metadata": {},
     "output_type": "execute_result"
    }
   ],
   "source": [
    "s[-1]"
   ]
  },
  {
   "cell_type": "code",
   "execution_count": 27,
   "id": "53ffc14a",
   "metadata": {},
   "outputs": [
    {
     "data": {
      "text/plain": [
       "'ho'"
      ]
     },
     "execution_count": 27,
     "metadata": {},
     "output_type": "execute_result"
    }
   ],
   "source": [
    "s[-3:-1]"
   ]
  },
  {
   "cell_type": "code",
   "execution_count": 28,
   "id": "cfdb09fd",
   "metadata": {},
   "outputs": [
    {
     "data": {
      "text/plain": [
       "'hon'"
      ]
     },
     "execution_count": 28,
     "metadata": {},
     "output_type": "execute_result"
    }
   ],
   "source": [
    "s[-3:]"
   ]
  },
  {
   "cell_type": "markdown",
   "id": "e02252a0",
   "metadata": {},
   "source": [
    "The step can be negative"
   ]
  },
  {
   "cell_type": "code",
   "execution_count": 31,
   "id": "c9e1897f",
   "metadata": {},
   "outputs": [
    {
     "data": {
      "text/plain": [
       "'nohtyP'"
      ]
     },
     "execution_count": 31,
     "metadata": {},
     "output_type": "execute_result"
    }
   ],
   "source": [
    "s[::-1]"
   ]
  },
  {
   "cell_type": "markdown",
   "id": "15f60c77",
   "metadata": {},
   "source": [
    "Check if a word is a palindrome"
   ]
  },
  {
   "cell_type": "code",
   "execution_count": 32,
   "id": "ddc71d00",
   "metadata": {},
   "outputs": [
    {
     "data": {
      "text/plain": [
       "False"
      ]
     },
     "execution_count": 32,
     "metadata": {},
     "output_type": "execute_result"
    }
   ],
   "source": [
    "s == s[::-1]"
   ]
  },
  {
   "cell_type": "markdown",
   "id": "d8bc7c73",
   "metadata": {},
   "source": [
    "## String Methods"
   ]
  },
  {
   "cell_type": "markdown",
   "id": "965b1207",
   "metadata": {},
   "source": [
    "### upper, lower, title"
   ]
  },
  {
   "cell_type": "code",
   "execution_count": 33,
   "id": "451dbcfd",
   "metadata": {},
   "outputs": [
    {
     "data": {
      "text/plain": [
       "'PYTHON'"
      ]
     },
     "execution_count": 33,
     "metadata": {},
     "output_type": "execute_result"
    }
   ],
   "source": [
    "s.upper()"
   ]
  },
  {
   "cell_type": "code",
   "execution_count": 34,
   "id": "10ad7740",
   "metadata": {},
   "outputs": [
    {
     "data": {
      "text/plain": [
       "'python'"
      ]
     },
     "execution_count": 34,
     "metadata": {},
     "output_type": "execute_result"
    }
   ],
   "source": [
    "s.lower()"
   ]
  },
  {
   "cell_type": "code",
   "execution_count": 2,
   "id": "8999a5c4",
   "metadata": {},
   "outputs": [],
   "source": [
    "s2 = 'Python is a great language.'"
   ]
  },
  {
   "cell_type": "code",
   "execution_count": 3,
   "id": "203dfee6",
   "metadata": {},
   "outputs": [
    {
     "data": {
      "text/plain": [
       "'Python Is A Great Language.'"
      ]
     },
     "execution_count": 3,
     "metadata": {},
     "output_type": "execute_result"
    }
   ],
   "source": [
    "s2.title()"
   ]
  },
  {
   "cell_type": "markdown",
   "id": "ef75e2c7",
   "metadata": {},
   "source": [
    "### replace"
   ]
  },
  {
   "cell_type": "markdown",
   "id": "66667599",
   "metadata": {},
   "source": [
    "replace takes two arguments (and an optional third): old value, new value, and count."
   ]
  },
  {
   "cell_type": "code",
   "execution_count": 4,
   "id": "f6ac2425",
   "metadata": {},
   "outputs": [
    {
     "data": {
      "text/plain": [
       "'Python.is.a.great.language.'"
      ]
     },
     "execution_count": 4,
     "metadata": {},
     "output_type": "execute_result"
    }
   ],
   "source": [
    "s2.replace(' ', '.')"
   ]
  },
  {
   "cell_type": "code",
   "execution_count": 5,
   "id": "5a2dc857",
   "metadata": {},
   "outputs": [
    {
     "data": {
      "text/plain": [
       "'Python.is.a great language.'"
      ]
     },
     "execution_count": 5,
     "metadata": {},
     "output_type": "execute_result"
    }
   ],
   "source": [
    "s2.replace(' ', '.', 2)"
   ]
  },
  {
   "cell_type": "code",
   "execution_count": 6,
   "id": "e6afc806",
   "metadata": {},
   "outputs": [
    {
     "data": {
      "text/plain": [
       "'Python is AAA greAAAt lAAAnguAAAge.'"
      ]
     },
     "execution_count": 6,
     "metadata": {},
     "output_type": "execute_result"
    }
   ],
   "source": [
    "s2.replace('a', 'AAA')"
   ]
  },
  {
   "cell_type": "code",
   "execution_count": 7,
   "id": "b945a7f0",
   "metadata": {},
   "outputs": [
    {
     "data": {
      "text/plain": [
       "'Pythonisagreatlanguage.'"
      ]
     },
     "execution_count": 7,
     "metadata": {},
     "output_type": "execute_result"
    }
   ],
   "source": [
    "s2.replace(' ', '')"
   ]
  },
  {
   "cell_type": "markdown",
   "id": "160994de",
   "metadata": {},
   "source": [
    "### split"
   ]
  },
  {
   "cell_type": "markdown",
   "id": "27cdf620",
   "metadata": {},
   "source": [
    "The split method splits on spaces by default. The result is a list."
   ]
  },
  {
   "cell_type": "code",
   "execution_count": 8,
   "id": "18ff6e35",
   "metadata": {},
   "outputs": [
    {
     "data": {
      "text/plain": [
       "['Python', 'is', 'a', 'great', 'language.']"
      ]
     },
     "execution_count": 8,
     "metadata": {},
     "output_type": "execute_result"
    }
   ],
   "source": [
    "s2.split()"
   ]
  },
  {
   "cell_type": "markdown",
   "id": "396d3cb2",
   "metadata": {},
   "source": [
    "Now, you can count the words, for instance."
   ]
  },
  {
   "cell_type": "code",
   "execution_count": 9,
   "id": "94b67f26",
   "metadata": {},
   "outputs": [
    {
     "data": {
      "text/plain": [
       "5"
      ]
     },
     "execution_count": 9,
     "metadata": {},
     "output_type": "execute_result"
    }
   ],
   "source": [
    "len(s2.split())"
   ]
  },
  {
   "cell_type": "markdown",
   "id": "ebe56f43",
   "metadata": {},
   "source": [
    "But you can also split on other characters."
   ]
  },
  {
   "cell_type": "code",
   "execution_count": 10,
   "id": "9b0bf851",
   "metadata": {},
   "outputs": [
    {
     "data": {
      "text/plain": [
       "['Python is ', ' gre', 't l', 'ngu', 'ge.']"
      ]
     },
     "execution_count": 10,
     "metadata": {},
     "output_type": "execute_result"
    }
   ],
   "source": [
    "s2.split('a')"
   ]
  },
  {
   "cell_type": "markdown",
   "id": "74359b38",
   "metadata": {},
   "source": [
    "Or on longer substrings."
   ]
  },
  {
   "cell_type": "code",
   "execution_count": 11,
   "id": "315dffdc",
   "metadata": {},
   "outputs": [
    {
     "data": {
      "text/plain": [
       "['Python is a ', ' language.']"
      ]
     },
     "execution_count": 11,
     "metadata": {},
     "output_type": "execute_result"
    }
   ],
   "source": [
    "s2.split('great')"
   ]
  },
  {
   "cell_type": "markdown",
   "id": "75f23c1a",
   "metadata": {},
   "source": [
    "### strip"
   ]
  },
  {
   "cell_type": "markdown",
   "id": "1e21d6b4",
   "metadata": {},
   "source": [
    "Strip removes A SET of characters from the beginning and end of a string"
   ]
  },
  {
   "cell_type": "markdown",
   "id": "daee81bd",
   "metadata": {},
   "source": [
    "By default, it removes all the whitespace"
   ]
  },
  {
   "cell_type": "code",
   "execution_count": 2,
   "id": "d1ed7809",
   "metadata": {},
   "outputs": [],
   "source": [
    "s3 = 'Python '\n",
    "s4 = 'Python\\n'\n",
    "s5 = ' \\t\\nPython\\t\\n '"
   ]
  },
  {
   "cell_type": "code",
   "execution_count": 6,
   "id": "7418ca12",
   "metadata": {},
   "outputs": [
    {
     "data": {
      "text/plain": [
       "'Python'"
      ]
     },
     "execution_count": 6,
     "metadata": {},
     "output_type": "execute_result"
    }
   ],
   "source": [
    "s3.strip()"
   ]
  },
  {
   "cell_type": "code",
   "execution_count": 7,
   "id": "c93c8b21",
   "metadata": {},
   "outputs": [
    {
     "data": {
      "text/plain": [
       "'Python'"
      ]
     },
     "execution_count": 7,
     "metadata": {},
     "output_type": "execute_result"
    }
   ],
   "source": [
    "s4.strip()"
   ]
  },
  {
   "cell_type": "code",
   "execution_count": 8,
   "id": "aafa613b",
   "metadata": {},
   "outputs": [
    {
     "data": {
      "text/plain": [
       "'Python'"
      ]
     },
     "execution_count": 8,
     "metadata": {},
     "output_type": "execute_result"
    }
   ],
   "source": [
    "s5.strip()"
   ]
  },
  {
   "cell_type": "code",
   "execution_count": 9,
   "id": "fc27afef",
   "metadata": {},
   "outputs": [
    {
     "data": {
      "text/plain": [
       "'Pyth'"
      ]
     },
     "execution_count": 9,
     "metadata": {},
     "output_type": "execute_result"
    }
   ],
   "source": [
    "s3.strip('no ')"
   ]
  },
  {
   "cell_type": "markdown",
   "id": "5b17cfb5",
   "metadata": {},
   "source": [
    "But you can also remove other characters"
   ]
  },
  {
   "cell_type": "code",
   "execution_count": 16,
   "id": "e4a5c69e",
   "metadata": {},
   "outputs": [
    {
     "data": {
      "text/plain": [
       "'Python is a great language'"
      ]
     },
     "execution_count": 16,
     "metadata": {},
     "output_type": "execute_result"
    }
   ],
   "source": [
    "s2.strip('.')"
   ]
  },
  {
   "cell_type": "markdown",
   "id": "32af9522",
   "metadata": {},
   "source": [
    "### rstrip and lstrip"
   ]
  },
  {
   "cell_type": "markdown",
   "id": "fc6d6575",
   "metadata": {},
   "source": [
    "Check also rstrip and lstrip:"
   ]
  },
  {
   "cell_type": "code",
   "execution_count": 1,
   "id": "f74111a6",
   "metadata": {},
   "outputs": [
    {
     "data": {
      "text/plain": [
       "'O'"
      ]
     },
     "execution_count": 1,
     "metadata": {},
     "output_type": "execute_result"
    }
   ],
   "source": [
    "'WOW'.strip('W')"
   ]
  },
  {
   "cell_type": "code",
   "execution_count": 2,
   "id": "c84217fe",
   "metadata": {},
   "outputs": [
    {
     "data": {
      "text/plain": [
       "'OW'"
      ]
     },
     "execution_count": 2,
     "metadata": {},
     "output_type": "execute_result"
    }
   ],
   "source": [
    "'WOW'.lstrip('W')"
   ]
  },
  {
   "cell_type": "code",
   "execution_count": 3,
   "id": "5c5b60e6",
   "metadata": {},
   "outputs": [
    {
     "data": {
      "text/plain": [
       "'WO'"
      ]
     },
     "execution_count": 3,
     "metadata": {},
     "output_type": "execute_result"
    }
   ],
   "source": [
    "'WOW'.rstrip('W')"
   ]
  },
  {
   "cell_type": "markdown",
   "id": "b2638ab1",
   "metadata": {},
   "source": [
    "### removesuffix"
   ]
  },
  {
   "cell_type": "code",
   "execution_count": 3,
   "id": "d565ee54",
   "metadata": {},
   "outputs": [
    {
     "data": {
      "text/plain": [
       "'Pyth'"
      ]
     },
     "execution_count": 3,
     "metadata": {},
     "output_type": "execute_result"
    }
   ],
   "source": [
    "s3.removesuffix('on ')"
   ]
  },
  {
   "cell_type": "markdown",
   "id": "ffaf6a0b",
   "metadata": {},
   "source": [
    "Check the difference between removesuffix and strip"
   ]
  },
  {
   "cell_type": "code",
   "execution_count": 4,
   "id": "6d8d24e9",
   "metadata": {},
   "outputs": [
    {
     "data": {
      "text/plain": [
       "'Pyth'"
      ]
     },
     "execution_count": 4,
     "metadata": {},
     "output_type": "execute_result"
    }
   ],
   "source": [
    "s3.strip('no ')"
   ]
  },
  {
   "cell_type": "code",
   "execution_count": 5,
   "id": "ebdfc9b3",
   "metadata": {},
   "outputs": [
    {
     "data": {
      "text/plain": [
       "'Python '"
      ]
     },
     "execution_count": 5,
     "metadata": {},
     "output_type": "execute_result"
    }
   ],
   "source": [
    "s3.removesuffix('no ')"
   ]
  },
  {
   "cell_type": "markdown",
   "id": "f6d8eafd",
   "metadata": {},
   "source": [
    "### Combining string methods"
   ]
  },
  {
   "cell_type": "code",
   "execution_count": 17,
   "id": "ecb4d5ef",
   "metadata": {},
   "outputs": [
    {
     "data": {
      "text/plain": [
       "'PYTHONISAGREATLANGUAGE'"
      ]
     },
     "execution_count": 17,
     "metadata": {},
     "output_type": "execute_result"
    }
   ],
   "source": [
    "s2.replace(' ', '').strip('.').upper()"
   ]
  },
  {
   "cell_type": "markdown",
   "id": "ea1d126e",
   "metadata": {},
   "source": [
    "### join"
   ]
  },
  {
   "cell_type": "markdown",
   "id": "9154ca54",
   "metadata": {},
   "source": [
    "With join, you glue a list of strings together."
   ]
  },
  {
   "cell_type": "code",
   "execution_count": 74,
   "id": "0ffa6c3e",
   "metadata": {},
   "outputs": [],
   "source": [
    "l = ['this', 'is', 'a', 'list']"
   ]
  },
  {
   "cell_type": "code",
   "execution_count": 75,
   "id": "76568be0",
   "metadata": {},
   "outputs": [
    {
     "data": {
      "text/plain": [
       "'thisisalist'"
      ]
     },
     "execution_count": 75,
     "metadata": {},
     "output_type": "execute_result"
    }
   ],
   "source": [
    "''.join(l)"
   ]
  },
  {
   "cell_type": "markdown",
   "id": "b2ee9e29",
   "metadata": {},
   "source": [
    "Look what happens if we choose another character between the quotes."
   ]
  },
  {
   "cell_type": "code",
   "execution_count": 76,
   "id": "be4b55b8",
   "metadata": {},
   "outputs": [
    {
     "data": {
      "text/plain": [
       "'this is a list'"
      ]
     },
     "execution_count": 76,
     "metadata": {},
     "output_type": "execute_result"
    }
   ],
   "source": [
    "' '.join(l)"
   ]
  },
  {
   "cell_type": "code",
   "execution_count": 77,
   "id": "16980bed",
   "metadata": {},
   "outputs": [
    {
     "data": {
      "text/plain": [
       "'thisNOisNOaNOlist'"
      ]
     },
     "execution_count": 77,
     "metadata": {},
     "output_type": "execute_result"
    }
   ],
   "source": [
    "'NO'.join(l)"
   ]
  },
  {
   "cell_type": "markdown",
   "id": "6275bed7",
   "metadata": {},
   "source": [
    "### startswith and endswith"
   ]
  },
  {
   "cell_type": "code",
   "execution_count": 82,
   "id": "d9b2d985",
   "metadata": {},
   "outputs": [
    {
     "data": {
      "text/plain": [
       "True"
      ]
     },
     "execution_count": 82,
     "metadata": {},
     "output_type": "execute_result"
    }
   ],
   "source": [
    "s2.startswith('Py')"
   ]
  },
  {
   "cell_type": "code",
   "execution_count": 84,
   "id": "5b08b171",
   "metadata": {},
   "outputs": [
    {
     "data": {
      "text/plain": [
       "False"
      ]
     },
     "execution_count": 84,
     "metadata": {},
     "output_type": "execute_result"
    }
   ],
   "source": [
    "s2.startswith('py')"
   ]
  },
  {
   "cell_type": "code",
   "execution_count": 83,
   "id": "34963289",
   "metadata": {},
   "outputs": [
    {
     "data": {
      "text/plain": [
       "False"
      ]
     },
     "execution_count": 83,
     "metadata": {},
     "output_type": "execute_result"
    }
   ],
   "source": [
    "s2.startswith('yth')"
   ]
  },
  {
   "cell_type": "code",
   "execution_count": 86,
   "id": "dcaf6b33",
   "metadata": {},
   "outputs": [
    {
     "data": {
      "text/plain": [
       "True"
      ]
     },
     "execution_count": 86,
     "metadata": {},
     "output_type": "execute_result"
    }
   ],
   "source": [
    "s2.endswith('.')"
   ]
  },
  {
   "cell_type": "code",
   "execution_count": 119,
   "id": "2eef3620",
   "metadata": {},
   "outputs": [
    {
     "name": "stdout",
     "output_type": "stream",
     "text": [
      "Yes, it does!\n"
     ]
    }
   ],
   "source": [
    "if s2.startswith('Py') == True:\n",
    "    print('Yes, it does!')"
   ]
  },
  {
   "cell_type": "markdown",
   "id": "f2037316",
   "metadata": {},
   "source": [
    "And we can make this a bit shorter (and more Pythonic):"
   ]
  },
  {
   "cell_type": "code",
   "execution_count": 122,
   "id": "219ce6e2",
   "metadata": {},
   "outputs": [
    {
     "name": "stdout",
     "output_type": "stream",
     "text": [
      "Yes, it does!\n"
     ]
    }
   ],
   "source": [
    "if s2.startswith('Py'):\n",
    "    print('Yes, it does!')"
   ]
  },
  {
   "cell_type": "markdown",
   "id": "ed365406",
   "metadata": {},
   "source": [
    "### in"
   ]
  },
  {
   "cell_type": "markdown",
   "id": "4bf43775",
   "metadata": {},
   "source": [
    "Check for a substring in a string."
   ]
  },
  {
   "cell_type": "code",
   "execution_count": 105,
   "id": "5b0cc94b",
   "metadata": {},
   "outputs": [
    {
     "data": {
      "text/plain": [
       "True"
      ]
     },
     "execution_count": 105,
     "metadata": {},
     "output_type": "execute_result"
    }
   ],
   "source": [
    "'language' in s2"
   ]
  },
  {
   "cell_type": "code",
   "execution_count": 106,
   "id": "fd7acd1f",
   "metadata": {},
   "outputs": [
    {
     "data": {
      "text/plain": [
       "False"
      ]
     },
     "execution_count": 106,
     "metadata": {},
     "output_type": "execute_result"
    }
   ],
   "source": [
    "'java' in s2"
   ]
  },
  {
   "cell_type": "markdown",
   "id": "94898736",
   "metadata": {},
   "source": [
    "### Formatting strings"
   ]
  },
  {
   "cell_type": "markdown",
   "id": "9b741004",
   "metadata": {},
   "source": [
    "There are various ways of formatting strings in Python. I like the f-string way."
   ]
  },
  {
   "cell_type": "code",
   "execution_count": 103,
   "id": "6706e0f1",
   "metadata": {},
   "outputs": [],
   "source": [
    "lang = 'Danish'\n",
    "feeling = 'wonderful'"
   ]
  },
  {
   "cell_type": "code",
   "execution_count": 104,
   "id": "a4560151",
   "metadata": {},
   "outputs": [
    {
     "data": {
      "text/plain": [
       "'Danish is a wonderful language.'"
      ]
     },
     "execution_count": 104,
     "metadata": {},
     "output_type": "execute_result"
    }
   ],
   "source": [
    "s6 = f'{lang} is a {feeling} language.'\n",
    "s6"
   ]
  },
  {
   "cell_type": "markdown",
   "id": "1c4a0d37",
   "metadata": {},
   "source": [
    "### isalpha"
   ]
  },
  {
   "cell_type": "markdown",
   "id": "2d4d5e80",
   "metadata": {},
   "source": [
    "isalpha checks if all the characters in a string are alphabetic characters."
   ]
  },
  {
   "cell_type": "code",
   "execution_count": 108,
   "id": "24017da5",
   "metadata": {},
   "outputs": [
    {
     "data": {
      "text/plain": [
       "True"
      ]
     },
     "execution_count": 108,
     "metadata": {},
     "output_type": "execute_result"
    }
   ],
   "source": [
    "s.isalpha()"
   ]
  },
  {
   "cell_type": "code",
   "execution_count": 109,
   "id": "860b605a",
   "metadata": {},
   "outputs": [
    {
     "data": {
      "text/plain": [
       "False"
      ]
     },
     "execution_count": 109,
     "metadata": {},
     "output_type": "execute_result"
    }
   ],
   "source": [
    "'Python123'.isalpha()"
   ]
  },
  {
   "cell_type": "code",
   "execution_count": 112,
   "id": "70a53d9e",
   "metadata": {},
   "outputs": [
    {
     "data": {
      "text/plain": [
       "False"
      ]
     },
     "execution_count": 112,
     "metadata": {},
     "output_type": "execute_result"
    }
   ],
   "source": [
    "'Python.'.isalpha()"
   ]
  },
  {
   "cell_type": "code",
   "execution_count": 113,
   "id": "087deaaf",
   "metadata": {},
   "outputs": [
    {
     "data": {
      "text/plain": [
       "False"
      ]
     },
     "execution_count": 113,
     "metadata": {},
     "output_type": "execute_result"
    }
   ],
   "source": [
    "'Python '.isalpha()"
   ]
  },
  {
   "cell_type": "markdown",
   "id": "e2b5452b",
   "metadata": {},
   "source": [
    "### isdigit"
   ]
  },
  {
   "cell_type": "markdown",
   "id": "49b62314",
   "metadata": {},
   "source": [
    "isdigit checks if all the characters in a string are numeric characters"
   ]
  },
  {
   "cell_type": "code",
   "execution_count": 116,
   "id": "73abb032",
   "metadata": {},
   "outputs": [
    {
     "data": {
      "text/plain": [
       "True"
      ]
     },
     "execution_count": 116,
     "metadata": {},
     "output_type": "execute_result"
    }
   ],
   "source": [
    "'1234'.isdigit()"
   ]
  },
  {
   "cell_type": "code",
   "execution_count": 117,
   "id": "7bf6394f",
   "metadata": {},
   "outputs": [
    {
     "data": {
      "text/plain": [
       "False"
      ]
     },
     "execution_count": 117,
     "metadata": {},
     "output_type": "execute_result"
    }
   ],
   "source": [
    "'123 '.isdigit()"
   ]
  },
  {
   "cell_type": "code",
   "execution_count": 118,
   "id": "b026f5e9",
   "metadata": {},
   "outputs": [
    {
     "data": {
      "text/plain": [
       "False"
      ]
     },
     "execution_count": 118,
     "metadata": {},
     "output_type": "execute_result"
    }
   ],
   "source": [
    "'123a'.isdigit()"
   ]
  }
 ],
 "metadata": {
  "kernelspec": {
   "display_name": "Python 3 (ipykernel)",
   "language": "python",
   "name": "python3"
  },
  "language_info": {
   "codemirror_mode": {
    "name": "ipython",
    "version": 3
   },
   "file_extension": ".py",
   "mimetype": "text/x-python",
   "name": "python",
   "nbconvert_exporter": "python",
   "pygments_lexer": "ipython3",
   "version": "3.9.7"
  }
 },
 "nbformat": 4,
 "nbformat_minor": 5
}
